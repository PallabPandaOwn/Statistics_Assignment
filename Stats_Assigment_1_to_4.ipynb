{
 "cells": [
  {
   "cell_type": "markdown",
   "metadata": {},
   "source": [
    "## 2.1. Problem Statement: STATISTICS 1"
   ]
  },
  {
   "cell_type": "markdown",
   "metadata": {},
   "source": [
    "### Question - 1. You survey households in your area to find the average rent they are paying. Find the standard deviation from the following data:\n",
    "$1550, $1700, $900, $850, $1000, $950."
   ]
  },
  {
   "cell_type": "code",
   "execution_count": 3,
   "metadata": {},
   "outputs": [
    {
     "name": "stdout",
     "output_type": "stream",
     "text": [
      "Mean is :  1158.3333333333333\n",
      "Variance is :  112847.22222222223\n",
      "Standard Deviation is :  335.92740617910624\n"
     ]
    }
   ],
   "source": [
    "import statistics as st\n",
    "from functools import reduce\n",
    "# Create the dataset for the same\n",
    "rent = [1550, 1700, 900,850, 1000,950]\n",
    "# Calculate the mean of the list\n",
    "mean = sum(rent)/len(rent)\n",
    "print (\"Mean is : \", mean)\n",
    "# Calculate the variance\n",
    "diff_mean = list(map(lambda x : (x - mean)**2 , rent))\n",
    "var = sum(diff_mean)/len(rent)\n",
    "print (\"Variance is : \", var)\n",
    "# Calculate the standard deviation\n",
    "sd = var ** 0.5\n",
    "print (\"Standard Deviation is : \", sd)"
   ]
  },
  {
   "cell_type": "markdown",
   "metadata": {},
   "source": [
    "### Question 2. Find the variance for the following set of data representing trees in California (heights in feet):\n",
    "3, 21, 98, 203, 17, 9"
   ]
  },
  {
   "cell_type": "code",
   "execution_count": 4,
   "metadata": {},
   "outputs": [
    {
     "name": "stdout",
     "output_type": "stream",
     "text": [
      "Variance is :  5183.25\n"
     ]
    }
   ],
   "source": [
    "trees = [3, 21, 98, 203, 17, 9]\n",
    "# Calculate mean \n",
    "mean = sum(trees)/len(trees)\n",
    "# Calculate the variance\n",
    "diff_mean = list(map(lambda x : (x - mean)**2 , trees))\n",
    "var = sum(diff_mean)/len(trees)\n",
    "print (\"Variance is : \", var)"
   ]
  },
  {
   "cell_type": "markdown",
   "metadata": {},
   "source": [
    "### Question 3. In a class on 100 students, 80 students passed in all subjects, 10 failed in one subject, 7 failed in two subjects and 3 failed in three subjects. Find the probability distribution of the variable for number of subjects a student from the given class has failed in."
   ]
  },
  {
   "cell_type": "code",
   "execution_count": 5,
   "metadata": {},
   "outputs": [
    {
     "name": "stdout",
     "output_type": "stream",
     "text": [
      "Total number of students in the class : 100\n",
      "Probability of failing in 0 subjects : 0.8\n",
      "Probability of failing in 1 subjects : 0.1\n",
      "Probability of failing in 2 subjects : 0.07\n",
      "Probability of failing in 3 subjects : 0.03\n"
     ]
    }
   ],
   "source": [
    "print (\"Total number of students in the class : 100\")\n",
    "print (\"Probability of failing in {} subjects : {}\".format(0, 80/100))\n",
    "print (\"Probability of failing in {} subjects : {}\".format(1, 10/100))\n",
    "print (\"Probability of failing in {} subjects : {}\".format(2, 7/100))\n",
    "print (\"Probability of failing in {} subjects : {}\".format(3, 3/100))"
   ]
  },
  {
   "cell_type": "markdown",
   "metadata": {},
   "source": []
  },
  {
   "cell_type": "markdown",
   "metadata": {},
   "source": [
    "### Based on the above data the probability distribution can be shown as below\n",
    "\n",
    " PROBABILITY | 0   | 1   | 2   | 3   |\n",
    "-------------|-----|-----|-----|-----|\n",
    " P(X)        | 0.8 | 0.1 | 0.07| 0.03| "
   ]
  },
  {
   "cell_type": "code",
   "execution_count": null,
   "metadata": {
    "collapsed": true
   },
   "outputs": [],
   "source": []
  },
  {
   "cell_type": "markdown",
   "metadata": {},
   "source": [
    "### 2.2. Problem Statement: STATISTICS 2"
   ]
  },
  {
   "cell_type": "code",
   "execution_count": 12,
   "metadata": {
    "collapsed": true
   },
   "outputs": [],
   "source": [
    "import math"
   ]
  },
  {
   "cell_type": "markdown",
   "metadata": {},
   "source": [
    "### FORMULA TO CALCULATE BINOMIAL DISTRIBUTION IS :\n",
    "P (‘k’ successes in ‘n’ trials) = C(n,k)sk(1−s)(n−k) \n",
    "\n",
    "s = the probability of success and \n",
    "\n",
    "(1-s) = the probability of failure (or complement of the event)\n",
    "\n",
    "n = Total number of trials\n",
    "\n",
    "K = number of specific events we want to obtain\n",
    "\n",
    "Also nCr represents selection of r events from n, it can be written as: nCk = n!/k!(n−k)!     "
   ]
  },
  {
   "cell_type": "markdown",
   "metadata": {},
   "source": [
    "### A test is conducted which is consisting of 20 MCQs (multiple choices questions) with every MCQ having its four options out of which only one is correct. Determine the probability that a person undertaking that test has answered exactly 5 questions wrong."
   ]
  },
  {
   "cell_type": "code",
   "execution_count": 13,
   "metadata": {},
   "outputs": [
    {
     "name": "stdout",
     "output_type": "stream",
     "text": [
      "PRoabailty to get 5 wrong is :  3.4264958230778575e-06\n"
     ]
    }
   ],
   "source": [
    "n = 20        # number of samples\n",
    "s = 5\n",
    "k = 15\n",
    "\n",
    "# Probability of success \n",
    "p = 1/4\n",
    "# Proability of Failure\n",
    "q = 1 - p\n",
    "\n",
    "# Percentage computation\n",
    "# 20!/15!(5!) * ((1/4) ** 15) * ((3/4) ** 5)\n",
    "\n",
    "array = [i for i in range(1,21)]\n",
    "n_fact = reduce(lambda x,y : x * y, array)\n",
    "pass_fact = reduce(lambda x,y : x * y, array[0:15])\n",
    "fail_fact = reduce(lambda x,y : x * y, array[0:5])\n",
    "\n",
    "# Probaility of 5 failures\n",
    "prob= (n_fact/(pass_fact*fail_fact)) * (p ** k ) * (q ** s)\n",
    "print (\"PRoabailty to get 5 wrong is : \", prob)"
   ]
  },
  {
   "cell_type": "markdown",
   "metadata": {},
   "source": [
    "### A die marked A to E is rolled 50 times. Find the probability of getting a “D” exactly 5 times."
   ]
  },
  {
   "cell_type": "code",
   "execution_count": 14,
   "metadata": {},
   "outputs": [
    {
     "name": "stdout",
     "output_type": "stream",
     "text": [
      "PRoabailty to get D 5 times is :  0.029531204310524296\n"
     ]
    }
   ],
   "source": [
    "n = 50\n",
    "#success count\n",
    "k = 5\n",
    "# Failure\n",
    "s = 50 -k    # 45\n",
    "\n",
    "# Probabilty of success \n",
    "p = 1/5    # As it is A to E, there are only 5 possibilties\n",
    "# Probiblity of failure\n",
    "q = 1 - p\n",
    "\n",
    "# Compute the probavilty\n",
    "prob = (math.factorial(n) / (math.factorial(k) * math.factorial(s))) * (p ** k) * (q ** s)\n",
    "print (\"PRoabailty to get D 5 times is : \", prob)"
   ]
  },
  {
   "cell_type": "markdown",
   "metadata": {},
   "source": [
    "### Two balls are drawn at random in succession without replacement from an urn containing 4 red balls and 6 black balls. Find the probabilities of all the possible outcomes."
   ]
  },
  {
   "cell_type": "markdown",
   "metadata": {},
   "source": [
    "Total Number of balls : 10<br>\n",
    "Probabilty of two reds    : RR : P(R) * P(R) : (4/10) * (3/9) &emsp; : 2/15 &emsp; :This because without replacement<br>\n",
    "Probabilty of red & black : RB : P(R) * P(B) : (4/10) * (6/9) &emsp; : 4/15 &emsp; :This because without replacement<br>\n",
    "Probabilty of black & red : BR : P(B) * P(R) : (6/10) * (4/9) &emsp; : 4/15 &emsp; :This because without replacement<br>\n",
    "Probabilty of two blacks  : BB : P(B) * P(B) : (6/10) * (5/9) &emsp; : 1/3  &emsp;&nbsp;&nbsp; :This because without replacement<br>\n",
    "<br>\n",
    "<br>\n",
    "Probabilty of 2 Reds &emsp;  &emsp; &emsp;  &emsp;         : 2/15        : 2/15<br>\n",
    "Probabilty of 1 red and 1 black : 4/15 + 4/15 : 8/15<br>\n",
    "Probabilty of 3 blacs &emsp; &emsp; &emsp;  &emsp;         : 1/3         : 1/3\n"
   ]
  },
  {
   "cell_type": "code",
   "execution_count": null,
   "metadata": {
    "collapsed": true
   },
   "outputs": [],
   "source": []
  },
  {
   "cell_type": "markdown",
   "metadata": {},
   "source": [
    "### 2.3. Problem Statement: STATISTICS 3"
   ]
  },
  {
   "cell_type": "markdown",
   "metadata": {},
   "source": [
    "### Blood glucose levels for obese patients have a mean of 100 with a standard deviation of 15. A researcher thinks that a diet high in raw cornstarch will have a positive effect on blood glucose levels. A sample of 36 patients who have tried the raw cornstarch diet have a mean glucose level of 108. Test the hypothesis that the raw cornstarch had an effect or not."
   ]
  },
  {
   "cell_type": "markdown",
   "metadata": {},
   "source": [
    "Hypothesis: <br><br>\n",
    "H0 : 𝜇 = 100 <br>\n",
    "HA : 𝜇 > 100<br>\n",
    "<br><br>\n",
    "Population mean = 100 <br>\n",
    "Population Standard Deviation = 15<br>\n",
    "<br>\n",
    "Sample size = 36<br>\n",
    "mean = 108<br>\n",
    "<br>\n",
    "Use the Z statics as SD for population is given<br>\n",
    "z = (sample mean - population mean)/ (standard Deviation/square root of sample size)<br><br>\n",
    "Alpha = 0.05"
   ]
  },
  {
   "cell_type": "code",
   "execution_count": 18,
   "metadata": {},
   "outputs": [
    {
     "data": {
      "text/plain": [
       "3.2"
      ]
     },
     "execution_count": 18,
     "metadata": {},
     "output_type": "execute_result"
    }
   ],
   "source": [
    "Z_stat = (108-100)/(15/(36)**0.5); Z_stat"
   ]
  },
  {
   "cell_type": "markdown",
   "metadata": {},
   "source": [
    "P value from the Z table table : 0.9993\n",
    "Z-critical value = 1.645\n",
    "\n",
    "### CONCLUSION\n",
    "Clearly the Z computed value is greater than the Z-critical Value, indicating it is in the rejection area.<br>\n",
    "Also the p value is greater than the Alpha value.<br>\n",
    "As a result the null hypothesis will be rejected."
   ]
  },
  {
   "cell_type": "markdown",
   "metadata": {},
   "source": [
    "### In one state, 52% of the voters are Republicans, and 48% are Democrats. In a second state, 47% of the voters are Republicans, and 53% are Democrats. Suppose a simple random sample of 100 voters are surveyed from each state. \n",
    "\n",
    "### What is the probability that the survey will show a greater percentage of Republican voters in the second state than in the first state?"
   ]
  },
  {
   "cell_type": "markdown",
   "metadata": {},
   "source": [
    "The above is a Propotion Problem<br>\n",
    "<br>\n",
    "P1 = Propotion of Republicans in the First state = 0.52<br>\n",
    "P2 = Propotion of Republicans in the Second state = 0.47<br>\n",
    "p1 = Propotion of Democrats in the First state = 0.48<br>\n",
    "p2 = Propotion of Democrats in the Secons state = 0.53<br>\n",
    "<br>\n",
    "Check whether the sample sizes are big. Remeber p1 = 1 - P1 and p2 = 1 - P2<br>\n",
    "n1P1 = 100 * 0.52 = 52<br>\n",
    "n1(1 - P1) = 100 * 0.48 = 48<br>\n",
    "n1P2 = 100 * 0.47 = 47<br>\n",
    "n1(1 - P2) = 100 * 0.53 = 53<br>\n",
    "<br>\n",
    "Clearly the sample sizes are big enough<br>\n",
    "<br>\n",
    "Difference in means = E(p1 - p2) = P1 - P2 = 0.52 - 0.47 = 0.05<br>\n",
    "<br>\n",
    "Standard Deviation Formula is :<br>\n",
    "σd = sqrt{ [P1(1 - P1) / n1 ] + [ P2(1 - P2) / n2 ] } \n"
   ]
  },
  {
   "cell_type": "code",
   "execution_count": 19,
   "metadata": {},
   "outputs": [
    {
     "data": {
      "text/plain": [
       "0.07061869440877536"
      ]
     },
     "execution_count": 19,
     "metadata": {},
     "output_type": "execute_result"
    }
   ],
   "source": [
    "sd = (((0.52 * 0.48)/100) + ((0.47 * 0.53)/100)) ** 0.5; sd"
   ]
  },
  {
   "cell_type": "markdown",
   "metadata": {},
   "source": [
    "Compute the Z score for the same\n",
    "z (p1 - p2) = (x - μ p1 - p2 ) / sd"
   ]
  },
  {
   "cell_type": "code",
   "execution_count": 20,
   "metadata": {},
   "outputs": [
    {
     "data": {
      "text/plain": [
       "-0.7080278164104207"
      ]
     },
     "execution_count": 20,
     "metadata": {},
     "output_type": "execute_result"
    }
   ],
   "source": [
    "z_score = (0 - 0.05) / sd; z_score"
   ]
  },
  {
   "cell_type": "markdown",
   "metadata": {},
   "source": [
    "### The value from the Z-table for -0.071 is 0.24."
   ]
  },
  {
   "cell_type": "markdown",
   "metadata": {},
   "source": [
    "### You take the SAT and score 1100. The mean score for the SAT is 1026 and the standard deviation is 209. How well did you score on the test compared to the average test taker?"
   ]
  },
  {
   "cell_type": "code",
   "execution_count": 22,
   "metadata": {},
   "outputs": [
    {
     "data": {
      "text/plain": [
       "0.35406698564593303"
      ]
     },
     "execution_count": 22,
     "metadata": {},
     "output_type": "execute_result"
    }
   ],
   "source": [
    "Z = (1100 - 1026)/209\n",
    "Z"
   ]
  },
  {
   "cell_type": "markdown",
   "metadata": {},
   "source": [
    "### Your score 0.354 from the mean"
   ]
  },
  {
   "cell_type": "code",
   "execution_count": null,
   "metadata": {
    "collapsed": true
   },
   "outputs": [],
   "source": []
  },
  {
   "cell_type": "markdown",
   "metadata": {},
   "source": [
    "### 2.4. Problem Statement: STATISTICS 4"
   ]
  },
  {
   "cell_type": "code",
   "execution_count": null,
   "metadata": {
    "collapsed": true
   },
   "outputs": [],
   "source": []
  },
  {
   "cell_type": "markdown",
   "metadata": {},
   "source": [
    "Is gender independent of education level? A random sample of 395 people were surveyed and each person was asked to report the highest education level they obtained. The data that resulted from the survey is summarized in the following table:<br>\n",
    "<br>High School Bachelors Masters Ph.d. Total<br>\n",
    "Female 60 54 46 41 201<br>\n",
    "Male 40 44 53 57 194<br>\n",
    "Total 100 98 99 98 395<br>\n",
    "<br>\n",
    "Question: Are gender and education level dependent at 5% level of significance? In other words, given the data collected above, is there a relationship between the gender of an individual and the level of education that they have obtained?<br>"
   ]
  },
  {
   "cell_type": "markdown",
   "metadata": {},
   "source": [
    "![Problem_Statement_1_Solution](Picture\\ChiSquareAssignment.png)"
   ]
  },
  {
   "cell_type": "markdown",
   "metadata": {},
   "source": [
    "### PROBLEM STATEMENT 2\n",
    "\n",
    "Using the following data, perform a oneway analysis of variance using α=.05. Write up the results in APA format.\n",
    "<br><br>\n",
    "[Group1: 51, 45, 33, 45, 67]<br>\n",
    "[Group2: 23, 43, 23, 43, 45]<br>\n",
    "[Group3: 56, 76, 74, 87, 56]<br>"
   ]
  },
  {
   "cell_type": "markdown",
   "metadata": {},
   "source": [
    "![Problem_Statement_2_Solution](Picture\\AnnovaAssignment1.png)"
   ]
  },
  {
   "cell_type": "markdown",
   "metadata": {},
   "source": [
    "### PROBLEM STATEMENT 3\n",
    "\n",
    "Calculate F Test for given 10, 20, 30, 40, 50 and 5,10,15, 20, 25."
   ]
  },
  {
   "cell_type": "markdown",
   "metadata": {},
   "source": [
    "![Problem_Statement_3_Solution](Picture\\AnnovaAssignment2.png)"
   ]
  },
  {
   "cell_type": "code",
   "execution_count": null,
   "metadata": {
    "collapsed": true
   },
   "outputs": [],
   "source": []
  }
 ],
 "metadata": {
  "kernelspec": {
   "display_name": "Python 3",
   "language": "python",
   "name": "python3"
  },
  "language_info": {
   "codemirror_mode": {
    "name": "ipython",
    "version": 3
   },
   "file_extension": ".py",
   "mimetype": "text/x-python",
   "name": "python",
   "nbconvert_exporter": "python",
   "pygments_lexer": "ipython3",
   "version": "3.6.3"
  }
 },
 "nbformat": 4,
 "nbformat_minor": 2
}
